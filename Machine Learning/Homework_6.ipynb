{
 "cells": [
  {
   "cell_type": "markdown",
   "metadata": {},
   "source": [
    " # Homework 6: Dense Neural Networks with Pytorch\n",
    "\n",
    "------------------------------------------------------\n",
    "*Machine Learning, Master in Big Data Analytics, 2018-2019*\n",
    "\n",
    "*Pablo M. Olmos olmos@tsc.uc3m.es*\n",
    "\n",
    "------------------------------------------------------\n",
    "\n",
    "In this homework you will deploy a simple Neural Network binary classifier for the Credit Default database from the [UCI repository](https://archive.ics.uci.edu/ml/datasets/default+of+credit+card+clients). The goal is to predict the probability of a default credit payment of different purchases, according to features such as amount of the given credit, history of past payment, or payment delay for nine months.\n",
    "\n",
    "## Student 1: Niall O'Neill (100394545)\n",
    "## Student 2: Karolina Sidlauskaite (100392576)"
   ]
  },
  {
   "cell_type": "markdown",
   "metadata": {},
   "source": [
    "Make sure you have reviewed the material of the [Pytorch Facebook Udacity course](https://github.com/udacity/deep-learning-v2-pytorch.git), particularly the assigments in the `intro_to_pytorch` folder.\n",
    "\n",
    "The homework is completely open. The following steps must be fullfilled:\n",
    "\n",
    "- Download the dataset. \n",
    "- Check out if there are categorical or nominal variables. If so, replace them by their [one-hot encoding representation](https://towardsdatascience.com/ml-intro-5-one-hot-encoding-cyclic-representations-normalization-6f6e2f4ec001). You can use the pandas method [get_dummies](https://pandas.pydata.org/pandas-docs/stable/reference/api/pandas.get_dummies.html). Split in train (60%), validation (20%), and test (20%) sets. Normalize real variables in both sets **2 points**.\n",
    "- Create a pytorch model class that defines a Neural Network with at two dense layers, non-linear activations at your choice and the appropiate final activation function for a binary classifier. Define the loss function, the batch size and the optimizer to be used. **3 points**.\n",
    "- Train the model using mini-batch stochastic gradiend descent. Plot the evolution of both train and validation error rate during training. **3 points**.\n",
    "- Define a new Neural Network model with four layers. Introduce Dropout as a regularization technique. Plot the evolution of both train and validation error rate during training **2 points**.\n",
    "\n",
    "**Note:** there are tons of parameters that should be selected by cross-validation (number of hidden units per layer, activation functions, mini-batch size, etc ...). Do not worry about this issue, just make your own choice and compare both models. The goal of this homework is that you learn how to use pytorch, not to really make fine-tunning of Neural Networks."
   ]
  },
  {
   "cell_type": "markdown",
   "metadata": {},
   "source": [
    "**Note-2:** Load the dataset with pandas, export to numpy and then to a pytorch tensor with the method `torch.from_numpy()`. E.g.\n",
    "\n",
    "`import torch`\n",
    "\n",
    "`X_train_torch = torch.from_numpy(X_train)`\n",
    "\n",
    "`y_train_torch = torch.from_numpy(y_train.astype(np.int64)`  \n"
   ]
  },
  {
   "cell_type": "markdown",
   "metadata": {},
   "source": [
    "**Note-3**: You can compare the performance achieved by the Neural Network with other methods in Table 1 of this [paper](https://www.sciencedirect.com/science/article/pii/S0957417407006719)"
   ]
  },
  {
   "cell_type": "code",
   "execution_count": 1,
   "metadata": {},
   "outputs": [],
   "source": [
    "import pandas as pd\n",
    "import numpy as np\n",
    "\n",
    "credit_data = pd.read_excel(\"default of credit card clients.xls\")\n",
    "credit_data = credit_data.iloc[1:,1:]\n",
    "\n",
    "train_X = credit_data.iloc[:,:23]\n",
    "train_Y = credit_data.iloc[:,-1]\n",
    "train_Y = np.array(train_Y.values).reshape(30000,1)"
   ]
  },
  {
   "cell_type": "markdown",
   "metadata": {},
   "source": [
    "We have 7 categorical/nominal variables: X2 - sex, X3 - education, X4 - marriage, X6 - pay0, X7 - pay2, X8 - pay3, X9 - pay4, X10 - pay5 and X11 - pay6."
   ]
  },
  {
   "cell_type": "code",
   "execution_count": 2,
   "metadata": {},
   "outputs": [],
   "source": [
    "cats = ['X2', 'X3', 'X4', 'X6', 'X7', 'X8', 'X9', 'X10', 'X11']\n",
    "\n",
    "train_X_cat = train_X.loc[:, cats]\n",
    "train_X_cat = pd.get_dummies(train_X_cat)\n",
    "\n",
    "train_X = train_X.drop(columns=cats)\n",
    "train_X = pd.merge(train_X, train_X_cat, right_index=True, left_index=True)"
   ]
  },
  {
   "cell_type": "markdown",
   "metadata": {},
   "source": [
    "Now we split the dataset into 3 sets: 60% for training data, 20% for validating and 20% for testing it."
   ]
  },
  {
   "cell_type": "code",
   "execution_count": 3,
   "metadata": {},
   "outputs": [],
   "source": [
    "from sklearn.model_selection import train_test_split\n",
    "\n",
    "# Split into 60% train, 20% validation and 20% test sets\n",
    "X_train, X_test, y_train, y_test = train_test_split(train_X, train_Y, test_size=0.2, random_state=1)\n",
    "X_train, X_val, y_train, y_val = train_test_split(X_train, y_train, test_size=0.25, random_state=1)"
   ]
  },
  {
   "cell_type": "markdown",
   "metadata": {},
   "source": [
    "The real value input variables are normalized for all three sets separately:"
   ]
  },
  {
   "cell_type": "code",
   "execution_count": 4,
   "metadata": {},
   "outputs": [],
   "source": [
    "from sklearn import preprocessing\n",
    "\n",
    "X_train = preprocessing.normalize(X_train)\n",
    "X_test = preprocessing.normalize(X_test)\n",
    "X_val = preprocessing.normalize(X_val)"
   ]
  },
  {
   "cell_type": "markdown",
   "metadata": {},
   "source": [
    "Now, we export data to torch tensor:"
   ]
  },
  {
   "cell_type": "code",
   "execution_count": 5,
   "metadata": {},
   "outputs": [],
   "source": [
    "import torch\n",
    "import numpy as np\n",
    "\n",
    "X_train_torch = torch.from_numpy(X_train)\n",
    "y_train_torch = torch.from_numpy(y_train.astype(np.int64))\n",
    "\n",
    "X_val_torch = torch.from_numpy(X_val)\n",
    "y_val_torch = torch.from_numpy(y_val.astype(np.int64))\n",
    "                                \n",
    "X_test_torch = torch.from_numpy(X_test)\n",
    "y_test_torch = torch.from_numpy(y_test.astype(np.int64))"
   ]
  },
  {
   "cell_type": "code",
   "execution_count": 134,
   "metadata": {},
   "outputs": [],
   "source": [
    "from torch import nn\n",
    "\n",
    "class Network(nn.Module):\n",
    "    def __init__(self):\n",
    "        super().__init__()\n",
    "        \n",
    "        self.dense1 = nn.Linear(91, 45)\n",
    "        self.relu1 = nn.ReLU() \n",
    "        self.dense2 = nn.Linear(45, 5) \n",
    "        self.relu2 = nn.PReLU(1)\n",
    "        self.out = nn.Linear(5, 1)\n",
    "        self.out_act = nn.Sigmoid()\n",
    "\n",
    "    def forward(self, x):\n",
    "        # Pass the input tensor through each of our operations\n",
    "        x = self.dense1(x)\n",
    "        x = self.relu1(x)  \n",
    "        x = self.dense2(x) \n",
    "        x = self.relu2(x)\n",
    "        x = self.out(x)\n",
    "        x = self.out_act(x)        \n",
    "        return x   "
   ]
  },
  {
   "cell_type": "code",
   "execution_count": 135,
   "metadata": {},
   "outputs": [],
   "source": [
    "import torch.optim as optim\n",
    "\n",
    "model = Network()\n",
    "opt = optim.SGD(model.parameters(), lr = 0.01)\n",
    "criterion = nn.MSELoss()"
   ]
  },
  {
   "cell_type": "code",
   "execution_count": 136,
   "metadata": {},
   "outputs": [],
   "source": [
    "from torch.utils.data import Dataset, DataLoader\n",
    "import matplotlib.pyplot as plt\n",
    "%matplotlib inline\n",
    "\n",
    "class TrainData(Dataset):\n",
    "    def __init__(self):\n",
    "        self.x=X_train_torch.float()\n",
    "        self.y=y_train_torch.float()\n",
    "        self.len=self.x.shape[0]\n",
    "    def __getitem__(self,index):                \n",
    "        return self.x[index],self.y[index]\n",
    "    def __len__(self):\n",
    "        return self.len\n",
    "\n",
    "class ValidationData(Dataset):\n",
    "    def __init__(self):\n",
    "        self.x=X_val_torch.float()\n",
    "        self.y=y_val_torch.float()\n",
    "        self.len=self.x.shape[0]\n",
    "    def __getitem__(self,index):                \n",
    "        return self.x[index],self.y[index]\n",
    "    def __len__(self):\n",
    "        return self.len    \n",
    "    \n",
    "train_data = DataLoader(dataset=TrainData(), batch_size=5)\n",
    "test_data = DataLoader(dataset=ValidationData(), batch_size=5)\n",
    "\n",
    "train_losses, test_losses = [], []\n",
    "\n",
    "for epoch in range(20):\n",
    "    train_loss = 0\n",
    "    for x,y in train_data:\n",
    "        yhat=model(x)\n",
    "        loss=criterion(yhat,y)\n",
    "        opt.zero_grad()\n",
    "        loss.backward()\n",
    "        opt.step()\n",
    "        train_loss += loss.item()\n",
    "    #train_losses.append(train_loss/len(train_data))\n",
    "    else:        \n",
    "        test_loss = 0\n",
    "        with torch.no_grad():\n",
    "            for x,y in test_data:\n",
    "                yhat = model(x)\n",
    "                test_loss += criterion(yhat,y)            \n",
    "            test_losses.append(test_loss/len(test_data))\n",
    "            train_losses.append(train_loss/len(train_data))"
   ]
  },
  {
   "cell_type": "code",
   "execution_count": 137,
   "metadata": {},
   "outputs": [
    {
     "data": {
      "text/plain": [
       "<matplotlib.legend.Legend at 0x213ddc21f60>"
      ]
     },
     "execution_count": 137,
     "metadata": {},
     "output_type": "execute_result"
    },
    {
     "data": {
      "image/png": "[encoded data removed]",
      "text/plain": [
       "<Figure size 432x288 with 1 Axes>"
      ]
     },
     "metadata": {
      "needs_background": "light"
     },
     "output_type": "display_data"
    }
   ],
   "source": [
    "plt.plot(train_losses, label='Training loss')\n",
    "plt.plot(test_losses, label='Validation loss')\n",
    "plt.legend(frameon=False)"
   ]
  },
  {
   "cell_type": "code",
   "execution_count": 139,
   "metadata": {},
   "outputs": [],
   "source": [
    "class Network2(nn.Module):\n",
    "    def __init__(self):\n",
    "        super().__init__()\n",
    "        \n",
    "        self.fc1 = nn.Linear(91, 45)\n",
    "        self.fc2 = nn.Linear(45, 30)\n",
    "        self.fc3 = nn.Linear(30, 15) \n",
    "        self.fc4 = nn.Linear(15, 1)\n",
    "        self.dropout = nn.Dropout(p=0.2)\n",
    "\n",
    "    def forward(self, x):\n",
    "        # Pass the input tensor through each of our operations\n",
    "        x = self.dropout(F.relu(self.fc1(x)))\n",
    "        x = self.dropout(F.relu(self.fc2(x)))\n",
    "        x = self.dropout(F.relu(self.fc3(x)))\n",
    "        x = F.sigmoid(self.fc4(x), dim=1)\n",
    "        return x   \n",
    "\n",
    "model2 = Network()\n",
    "opt = optim.SGD(model2.parameters(), lr = 0.01)\n",
    "criterion = nn.MSELoss()"
   ]
  },
  {
   "cell_type": "code",
   "execution_count": 140,
   "metadata": {},
   "outputs": [
    {
     "data": {
      "text/plain": [
       "<matplotlib.legend.Legend at 0x21467d65f60>"
      ]
     },
     "execution_count": 140,
     "metadata": {},
     "output_type": "execute_result"
    },
    {
     "data": {
      "image/png": "[encoded data removed]",
      "text/plain": [
       "<Figure size 432x288 with 1 Axes>"
      ]
     },
     "metadata": {
      "needs_background": "light"
     },
     "output_type": "display_data"
    }
   ],
   "source": [
    "train_data = DataLoader(dataset=TrainData(), batch_size=5)\n",
    "test_data = DataLoader(dataset=ValidationData(), batch_size=5)\n",
    "\n",
    "train_losses, test_losses = [], []\n",
    "\n",
    "for epoch in range(20):\n",
    "    train_loss = 0\n",
    "    for x,y in train_data:\n",
    "        yhat=model2(x)\n",
    "        loss=criterion(yhat,y)\n",
    "        opt.zero_grad()\n",
    "        loss.backward()\n",
    "        opt.step()\n",
    "        train_loss += loss.item()\n",
    "    #train_losses.append(train_loss/len(train_data))\n",
    "    else:        \n",
    "        test_loss = 0\n",
    "        with torch.no_grad():\n",
    "            for x,y in test_data:\n",
    "                yhat = model2(x)\n",
    "                test_loss += criterion(yhat,y)            \n",
    "            test_losses.append(test_loss/len(test_data))\n",
    "            train_losses.append(train_loss/len(train_data))\n",
    "            \n",
    "plt.plot(train_losses, label='Training loss')\n",
    "plt.plot(test_losses, label='Validation loss')\n",
    "plt.legend(frameon=False)"
   ]
  },
  {
   "cell_type": "code",
   "execution_count": null,
   "metadata": {},
   "outputs": [],
   "source": []
  }
 ],
 "metadata": {
  "kernelspec": {
   "display_name": "Python 3",
   "language": "python",
   "name": "python3"
  },
  "language_info": {
   "codemirror_mode": {
    "name": "ipython",
    "version": 3
   },
   "file_extension": ".py",
   "mimetype": "text/x-python",
   "name": "python",
   "nbconvert_exporter": "python",
   "pygments_lexer": "ipython3",
   "version": "3.7.3"
  }
 },
 "nbformat": 4,
 "nbformat_minor": 2
}
